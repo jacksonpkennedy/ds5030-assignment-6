{
 "cells": [
  {
   "cell_type": "markdown",
   "id": "dd21efe9",
   "metadata": {},
   "source": [
    "# Assignment 6\n",
    "### Do Question 6, and three more questions of your choice."
   ]
  },
  {
   "cell_type": "markdown",
   "id": "707067e4",
   "metadata": {},
   "source": [
    "### 1. Set review:\n",
    "\n",
    "- Operations on sets (hints: sketch venn-type diagrams, and showing $A=B$ is the same as $A \\subseteq B$ and $B \\subseteq A$):\n",
    "- $ (A \\backslash B) \\cup (A \\cap B) = A $\n",
    "- $ A \\cup ( B \\cap C) = (A \\cup B) \\cap (A \\cup C)$\n",
    "- $ A \\backslash (B \\cup C) = A\\backslash B \\cap A \\backslash C $ and $A \\backslash (B \\cap C) = A \\backslash B \\cup A \\backslash C$\n",
    "\n",
    "- Plot the following sets: \n",
    "    - $A = \\{x \\in \\mathbb{R}: x^2 -1 \\ge 0 \\}$ \n",
    "    - $B = \\{ (x,y) \\in \\mathbb{R}^2: 3x -2y \\ge 0 \\}$\n",
    "    - $C = \\{ (x,y) \\in \\mathbb{R}^2: xy \\ge 3 \\}$\n",
    "    - $D = \\{ (x_1,x_2) \\in \\mathbb{R}^2: x_1 \\ge 0, x_2 \\ge 0, x_1 + x_2 \\le 1 \\}$\n",
    "- The power set of $A$ is the set of all subsets of $A$, denoted $\\mathcal{P}(A)$. What is the power set of $\\{ 1, 2, 3 \\}$? (Hint: The empty set is a subset of every set; the whole set is a subset of itself.)"
   ]
  },
  {
   "cell_type": "markdown",
   "id": "9c527708",
   "metadata": {},
   "source": [
    "### 2. Probability space basics:\n",
    "\n",
    "- What are the outcomes for rolling a single, fair **THREE**-sided die? What's the set of all events? What are the probabilities of all the events?\n",
    "- What about flipping a fair coin twice? (Hint: There are 4 outcomes, and $2^{4} = 16$ events.)\n",
    "- What about rolling the **THREE**-sided die twice, and adding the results? Don't write down the set of all the possible events, but describe briefly what it looks like and how large it is. (Hint: There are 5 outcomes, and $2^{5}=32$ possible events.)\n",
    "\n",
    "Obviously, a \"three-sided die\" doesn't exist, but this keeps you from spending a lot of time suffering in working out sets of events."
   ]
  },
  {
   "cell_type": "markdown",
   "id": "75676fb3",
   "metadata": {},
   "source": [
    "\n",
    "### 3. Random Variable Basics\n",
    "\n",
    "- Imagine rolling a fair single six-sided die. There are 6 outcomes, all equally likely. Derive the sample space and the space of events. What are the probabilities of the outcomes and events? \n",
    "- Consider a random variable that assigns the square root of the number of pips on the die to each outcome. Write code to simulate rolling a single six-sided die and computing the value of the random variable. Simulate 5000 rolls and plot the mass function and ECDF of the random variable.\n",
    "- Imagine rolling two fair six-sided die. Consider a random variable that adds up the pips on the dice. There are 11 outcomes (2 , 3, ..., 12), but not all are equally likely. Derive the sample space and **describe** the space of events. What are the probabilities of the outcomes?\n",
    "- Write code to simulate the random variable (rolling two six-sided die and adding the results together). Simulate 10000 rolls and plot the mass function and ECDF."
   ]
  },
  {
   "cell_type": "code",
   "execution_count": 1,
   "id": "22c4765f",
   "metadata": {},
   "outputs": [],
   "source": [
    "import itertools\n",
    "import pandas as pd\n",
    "import numpy as np\n",
    "import matplotlib.pyplot as plt"
   ]
  },
  {
   "cell_type": "markdown",
   "id": "62493bf7",
   "metadata": {},
   "source": [
    "#### A: Fair six-sided die"
   ]
  },
  {
   "cell_type": "code",
   "execution_count": 2,
   "id": "075ca7a7",
   "metadata": {},
   "outputs": [
    {
     "data": {
      "text/plain": [
       "64"
      ]
     },
     "execution_count": 2,
     "metadata": {},
     "output_type": "execute_result"
    }
   ],
   "source": [
    "## Define sample space\n",
    "sample_space = list(range(1, 7))\n",
    "\n",
    "# Define event space\n",
    "event_space = []\n",
    "for i in range(0, len(sample_space)+1):\n",
    "    for subset in itertools.combinations(sample_space, i):\n",
    "        event_space.append(set(subset))\n",
    "len(event_space)"
   ]
  },
  {
   "cell_type": "code",
   "execution_count": 3,
   "id": "76c370cd",
   "metadata": {},
   "outputs": [
    {
     "data": {
      "text/plain": [
       "{1: 0.16666666666666666,\n",
       " 2: 0.16666666666666666,\n",
       " 3: 0.16666666666666666,\n",
       " 4: 0.16666666666666666,\n",
       " 5: 0.16666666666666666,\n",
       " 6: 0.16666666666666666}"
      ]
     },
     "execution_count": 3,
     "metadata": {},
     "output_type": "execute_result"
    }
   ],
   "source": [
    "prob_outcome = {x: 1 / 6 for x in sample_space}\n",
    "prob_outcome # all equally likely"
   ]
  },
  {
   "cell_type": "code",
   "execution_count": 4,
   "id": "5522f8cb",
   "metadata": {},
   "outputs": [
    {
     "data": {
      "text/plain": [
       "{(): 0.0,\n",
       " (1,): 0.16666666666666666,\n",
       " (2,): 0.16666666666666666,\n",
       " (3,): 0.16666666666666666,\n",
       " (4,): 0.16666666666666666,\n",
       " (5,): 0.16666666666666666,\n",
       " (6,): 0.16666666666666666,\n",
       " (1, 2): 0.3333333333333333,\n",
       " (1, 3): 0.3333333333333333,\n",
       " (1, 4): 0.3333333333333333,\n",
       " (1, 5): 0.3333333333333333,\n",
       " (1, 6): 0.3333333333333333,\n",
       " (2, 3): 0.3333333333333333,\n",
       " (2, 4): 0.3333333333333333,\n",
       " (2, 5): 0.3333333333333333,\n",
       " (2, 6): 0.3333333333333333,\n",
       " (3, 4): 0.3333333333333333,\n",
       " (3, 5): 0.3333333333333333,\n",
       " (3, 6): 0.3333333333333333,\n",
       " (4, 5): 0.3333333333333333,\n",
       " (4, 6): 0.3333333333333333,\n",
       " (5, 6): 0.3333333333333333,\n",
       " (1, 2, 3): 0.5,\n",
       " (1, 2, 4): 0.5,\n",
       " (1, 2, 5): 0.5,\n",
       " (1, 2, 6): 0.5,\n",
       " (1, 3, 4): 0.5,\n",
       " (1, 3, 5): 0.5,\n",
       " (1, 3, 6): 0.5,\n",
       " (1, 4, 5): 0.5,\n",
       " (1, 4, 6): 0.5,\n",
       " (1, 5, 6): 0.5,\n",
       " (2, 3, 4): 0.5,\n",
       " (2, 3, 5): 0.5,\n",
       " (2, 3, 6): 0.5,\n",
       " (2, 4, 5): 0.5,\n",
       " (2, 4, 6): 0.5,\n",
       " (2, 5, 6): 0.5,\n",
       " (3, 4, 5): 0.5,\n",
       " (3, 4, 6): 0.5,\n",
       " (3, 5, 6): 0.5,\n",
       " (4, 5, 6): 0.5,\n",
       " (1, 2, 3, 4): 0.6666666666666666,\n",
       " (1, 2, 3, 5): 0.6666666666666666,\n",
       " (1, 2, 3, 6): 0.6666666666666666,\n",
       " (1, 2, 4, 5): 0.6666666666666666,\n",
       " (1, 2, 4, 6): 0.6666666666666666,\n",
       " (1, 2, 5, 6): 0.6666666666666666,\n",
       " (1, 3, 4, 5): 0.6666666666666666,\n",
       " (1, 3, 4, 6): 0.6666666666666666,\n",
       " (1, 3, 5, 6): 0.6666666666666666,\n",
       " (1, 4, 5, 6): 0.6666666666666666,\n",
       " (2, 3, 4, 5): 0.6666666666666666,\n",
       " (2, 3, 4, 6): 0.6666666666666666,\n",
       " (2, 3, 5, 6): 0.6666666666666666,\n",
       " (2, 4, 5, 6): 0.6666666666666666,\n",
       " (3, 4, 5, 6): 0.6666666666666666,\n",
       " (1, 2, 3, 4, 5): 0.8333333333333334,\n",
       " (1, 2, 3, 4, 6): 0.8333333333333334,\n",
       " (1, 2, 3, 5, 6): 0.8333333333333334,\n",
       " (1, 2, 4, 5, 6): 0.8333333333333334,\n",
       " (1, 3, 4, 5, 6): 0.8333333333333334,\n",
       " (2, 3, 4, 5, 6): 0.8333333333333334,\n",
       " (1, 2, 3, 4, 5, 6): 1.0}"
      ]
     },
     "execution_count": 4,
     "metadata": {},
     "output_type": "execute_result"
    }
   ],
   "source": [
    "prob_event = {tuple(sorted(E)): len(E) / 6 for E in event_space}\n",
    "prob_event"
   ]
  },
  {
   "cell_type": "markdown",
   "id": "10193d91",
   "metadata": {},
   "source": [
    "#### B: Square root of (pips on) six-sided die"
   ]
  },
  {
   "cell_type": "code",
   "execution_count": 8,
   "id": "35c57e3d",
   "metadata": {},
   "outputs": [],
   "source": [
    "## Simulation\n",
    "# Set seed for reproducibility\n",
    "rng = np.random.default_rng(seed=405)\n",
    "\n",
    "# Draw random values\n",
    "n_sim = 5000\n",
    "draws = np.sqrt(rng.integers(low=1, high=7, size=n_sim))"
   ]
  },
  {
   "cell_type": "code",
   "execution_count": 11,
   "id": "9c836a00",
   "metadata": {},
   "outputs": [
    {
     "data": {
      "image/png": "[encoded data removed]",
      "text/plain": [
       "<Figure size 1000x400 with 2 Axes>"
      ]
     },
     "metadata": {},
     "output_type": "display_data"
    }
   ],
   "source": [
    "## Compute PMF\n",
    "unique, counts = np.unique(draws, return_counts=True)\n",
    "pmf = counts / n_sim\n",
    "\n",
    "# Compute ECDF\n",
    "sorted_draws = np.sort(draws)\n",
    "ecdf = np.arange(1, n_sim+1) / n_sim\n",
    "\n",
    "# Plot PMF\n",
    "plt.figure(figsize=(10, 4))\n",
    "plt.subplot(1, 2, 1)\n",
    "plt.stem(unique, pmf, basefmt=\" \")\n",
    "plt.title(\"PMF\")\n",
    "plt.xlabel(\"x\")\n",
    "plt.ylabel(\"P(X = x)\")\n",
    "\n",
    "# Plot ECDF\n",
    "plt.subplot(1, 2, 2)\n",
    "plt.plot(sorted_draws, ecdf, marker=\".\", linestyle=\"none\")\n",
    "plt.title(\"Empirical CDF\")\n",
    "plt.xlabel(\"x\")\n",
    "plt.ylabel(\"F(x)\")\n",
    "\n",
    "plt.tight_layout()\n",
    "plt.show()"
   ]
  },
  {
   "cell_type": "markdown",
   "id": "95f1f953",
   "metadata": {
    "vscode": {
     "languageId": "plaintext"
    }
   },
   "source": [
    "### 4. Roulette\n",
    "\n",
    "This question will be easiest if you read the whole thing, and come up with a clear plan for how you'll write the code.\n",
    "\n",
    "Roulette is a betting game. There are 37 possible outcomes: A green 0, and the numbers 1 to 36 in red and black. Here is a picture of the (American, not Euro, it has an extra green 00) betting board:\n",
    "\n",
    "![Roulette](./src/euro_roulette.jpg)\n",
    "\n",
    "To bet, you must pay a dollar, but then you get payouts that depend on how many slots are in your bet\n",
    "- Basic bets:\n",
    "    - Red or Black slots\n",
    "    - Odd or Even slots\n",
    "    - A single slots, like 20\n",
    "- More complex bets:\n",
    "    - Split: Two adjacent slots (e.g. {1,2})\n",
    "    - Square: Four adjacent slots (e.g. {1,2,4,5})\n",
    "    - Street: Three slots in a row (e.g. {1,2,3})\n",
    "    - Line: Six slots (e.g. {1,2,3,4,5,6})\n",
    "In general, you can only bet on 1, 2, 3, 4, 6 slots, 12 slots, or 18 slots. If your bet occurs when the wheel is spun, you gain 36/K-1 where $K$ is the number of slots you bet on; if not, you lose a dollar and get -1.\n",
    "\n",
    "- Write code to model spinning the roulette wheel, including the colors and numbers (you could make two lists of number and color and draw a random number between 0 and 37... or use a dataframe with color and number variables and sample it... or use a dict with key to number/color pairs...)\n",
    "- Describe the probability space associated with the roulette wheel: Outcomes, events, probabilities (If there are 37 outcomes, there are $2^{37}= 137,438,953,472$ events, by the way)\n",
    "- You wrote code to generate a spin of the roulette wheel. Now write a function that takes a basic or complex bet as an argument, and returns the result for the player (win or lose, and the payout 36/K-1 or -1)\n",
    "- Simulate betting on red, betting on odd, betting on 7, a split, and a line 1000 times each.\n",
    "- Compute the average values for the bets you just simulated. What are the expected average payoffs?"
   ]
  },
  {
   "cell_type": "markdown",
   "id": "6bc9caa6",
   "metadata": {},
   "source": [
    "### 5. CDF and PDF Basics\n",
    "\n",
    "- Verify the following functions are distribution functions and compute their density functions. Plot the distribution and density.\n",
    "\n",
    "1. $F(x) = \\begin{cases}\n",
    "0, & x \\le 0 \\\\\n",
    "\\sqrt{x}, & 0 \\le x \\le 1 \\\\\n",
    "1, & x \\ge 1 \n",
    "\\end{cases}\n",
    "$\n",
    "2. $F(x) = \\dfrac{1}{1+e^{-x}}$\n",
    "3. For $ a < b < c$,\n",
    "$\n",
    "F(x) = \\begin{cases}\n",
    "0, & x \\le 0 \\\\\n",
    "\\frac{(x-a)^2}{(b-a)(b-c)}, & a \\le x \\le c \\\\\n",
    "1 - \\frac{(b-x)^2}{(b-a)(b-c)}, & c < x < b \\\\\n",
    "1, & x \\ge b\n",
    "\\end{cases}\n",
    "$\n",
    "4. $ F(x) = \\begin{cases}\n",
    "0, & x <0 \\\\\n",
    "1 - e^{-x}, & x>0\n",
    "\\end{cases}\n",
    "$\n",
    "5. $ F(x) = \\begin{cases}\n",
    "0, & x \\le 0 \\\\\n",
    "x, & 0 < x < 1\\\\\n",
    "1, & x \\ge 1\n",
    "\\end{cases}\n",
    "$"
   ]
  },
  {
   "cell_type": "markdown",
   "id": "f64444d2",
   "metadata": {},
   "source": [
    "### 6. Some Common Distributions\n",
    "\n",
    "For the following distributions:\n",
    "- Determine the support\n",
    "- Compute the density from the distribution for the logistic and exponential distributions (take a derivative)\n",
    "- Plot the density and distribution for a variety of parameter values\n",
    "- Take a sample of 1000 draws $(x_1, x_2, ..., x_{1000})$ from the distribution, plot a KDE and ECDF, visually compare with the theoretical pdf/cdf\n",
    "- Find an example of this general type of PDF/CDF from the Metabric cancer data\n",
    "\n",
    "You can use https://docs.scipy.org/doc/scipy/reference/stats.html to generate values for the pdf/cdf and generate samples of random variates.\n",
    "\n",
    "\n",
    "- Logistic distribution (similar to normal): \n",
    "$$\n",
    "F(x; \\sigma) = \\dfrac{1}{1+e^{-x/\\sigma}} \n",
    "$$\n",
    "with $\\sigma >0$.\n",
    "- Exponential distribution (similar to log-normal):\n",
    "$$\n",
    "F_X(x) = \\begin{cases}\n",
    "0, & x<0 \\\\\n",
    "1 - e^{-\\lambda x}, & x \\ge 0,\n",
    "\\end{cases}\n",
    "$$\n",
    "with $\\lambda > 0$.\n",
    "- Negative Binomial (similar to Poisson): The probability mass function for positive integers is:\n",
    "$$\n",
    "f(k;r,p) = \\dfrac{(k+r-1)!}{k!(r-1)!}(1-p)^k p^r, \\quad \\text{ for $k=0,...n$}\n",
    "$$\n",
    "You can interpret this as follows: Flip a coin that comes up heads with probability $p$ until you get $r$ heads, and then stop. What is the probability of stopping at each $k=0,1,2,...$?\n",
    "- Categorical (similar to Bernoulli): The probability mass function over $k = 1, 2, ..., K$ categories is\n",
    "$$\n",
    "f(k;p_1,...,p_K) = p_1^{k=1}p_2^{k=2}...p_K^{k=K}\n",
    "$$\n",
    "where $0 \\le p_i \\le 1$ and $ \\sum_{k=1}^K p_k = 1$.\n"
   ]
  },
  {
   "cell_type": "markdown",
   "id": "c9209444",
   "metadata": {},
   "source": []
  }
 ],
 "metadata": {
  "kernelspec": {
   "display_name": "ds6001",
   "language": "python",
   "name": "python3"
  },
  "language_info": {
   "codemirror_mode": {
    "name": "ipython",
    "version": 3
   },
   "file_extension": ".py",
   "mimetype": "text/x-python",
   "name": "python",
   "nbconvert_exporter": "python",
   "pygments_lexer": "ipython3",
   "version": "3.13.5"
  }
 },
 "nbformat": 4,
 "nbformat_minor": 5
}
